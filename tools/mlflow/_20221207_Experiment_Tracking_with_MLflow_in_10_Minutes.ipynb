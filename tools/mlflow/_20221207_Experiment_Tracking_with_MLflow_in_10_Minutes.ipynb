{
 "cells": [
  {
   "cell_type": "code",
   "execution_count": 30,
   "outputs": [
    {
     "data": {
      "text/plain": "'/root/projects/PythonProjects/learning-machine-learning-models/tools/mlflow'"
     },
     "metadata": {},
     "output_type": "display_data"
    },
    {
     "data": {
      "text/plain": "'/root/projects/PythonProjects/learning-machine-learning-models/tools/mlflow'"
     },
     "metadata": {},
     "output_type": "display_data"
    }
   ],
   "source": [
    "import os\n",
    "display(os.getcwd())\n",
    "os.chdir('/root/projects/PythonProjects/learning-machine-learning-models/tools/mlflow')\n",
    "display(os.getcwd())\n",
    "import tqdm"
   ],
   "metadata": {
    "collapsed": false
   }
  },
  {
   "cell_type": "code",
   "execution_count": 30,
   "outputs": [],
   "source": [],
   "metadata": {
    "collapsed": false
   }
  },
  {
   "cell_type": "code",
   "execution_count": 48,
   "metadata": {
    "collapsed": true
   },
   "outputs": [
    {
     "name": "stderr",
     "output_type": "stream",
     "text": [
      "100%|███████████████████████████████████████████████████████████████████████████████████████████████████████████████████████████████████████| 5/5 [00:07<00:00,  1.42s/it]\n"
     ]
    }
   ],
   "source": [
    "import mlflow\n",
    "\n",
    "from sklearn.datasets import load_iris\n",
    "from sklearn.metrics import accuracy_score, roc_auc_score\n",
    "from sklearn.model_selection import train_test_split\n",
    "from sklearn.tree import DecisionTreeClassifier\n",
    "\n",
    "iris = load_iris()\n",
    "X, y = iris.data, iris.target\n",
    "X_train, X_test, y_train, y_test = train_test_split(\n",
    "    X, y, test_size=0.2, random_state=123\n",
    ")\n",
    "\n",
    "EXPERIMENT_NAME = \"mlflow-demo\"\n",
    "if mlflow.get_experiment_by_name(EXPERIMENT_NAME) is None:\n",
    "    EXPERIMENT_ID = mlflow.create_experiment(EXPERIMENT_NAME)\n",
    "\n",
    "for idx, depth in tqdm.tqdm(enumerate([1, 2, 5, 10, 20]), total=5):\n",
    "    clf = DecisionTreeClassifier(max_depth=depth)\n",
    "    clf.fit(X_train, y_train)\n",
    "    y_pred = clf.predict(X_test)\n",
    "    y_pred_prob = clf.predict_proba(X_test)\n",
    "\n",
    "    accuracy = accuracy_score(y_test, y_pred)\n",
    "    auc_score = roc_auc_score(y_test.reshape(-1, 1), y_pred_prob, multi_class='ovr')\n",
    "\n",
    "    # Start MLflow\n",
    "    RUN_NAME = f\"run_{idx}\"\n",
    "    with mlflow.start_run(experiment_id=EXPERIMENT_ID, run_name=RUN_NAME) as run:\n",
    "        # Retrieve run id\n",
    "        RUN_ID = run.info.run_id\n",
    "\n",
    "        # Track parameters\n",
    "        mlflow.log_param(\"depth\", depth)\n",
    "\n",
    "        # Track metrics\n",
    "        mlflow.log_metric(\"accuracy\", accuracy)\n",
    "        mlflow.log_metric('ROC AUC score', auc_score)\n",
    "\n",
    "        # Track model\n",
    "        mlflow.sklearn.log_model(clf, \"classifier\")"
   ]
  },
  {
   "cell_type": "code",
   "execution_count": 49,
   "outputs": [
    {
     "data": {
      "text/plain": "('216735303135488445',\n 'ea305031891a4a45802d37aeee1e8923',\n <module 'mlflow' from '/root/miniconda3/envs/devenv/lib/python3.9/site-packages/mlflow/__init__.py'>)"
     },
     "execution_count": 49,
     "metadata": {},
     "output_type": "execute_result"
    }
   ],
   "source": [
    "EXPERIMENT_ID, RUN_ID, mlflow"
   ],
   "metadata": {
    "collapsed": false
   }
  },
  {
   "cell_type": "code",
   "execution_count": 72,
   "outputs": [
    {
     "name": "stdout",
     "output_type": "stream",
     "text": [
      "EXPERIMENT_ID 216735303135488445\n",
      "Best run ID: ee05a605112a4caab7291cd8bf2f3470\n"
     ]
    },
    {
     "data": {
      "text/plain": "                             Run ID Params  Accuracies  ROC AUC Scores\n0  ea305031891a4a45802d37aeee1e8923     20    0.966667        0.977904\n1  9792a49e8a5948adbb08005ad8574d3d     10    0.966667        0.977904\n2  ee05a605112a4caab7291cd8bf2f3470      5    0.966667        1.000000\n3  70d99bd2d7534a179bbd92619e5c270a      2    0.966667        0.988271\n4  912872f2a8e34657932ccb0df7aec357      1    0.633333        0.870980",
      "text/html": "<div>\n<style scoped>\n    .dataframe tbody tr th:only-of-type {\n        vertical-align: middle;\n    }\n\n    .dataframe tbody tr th {\n        vertical-align: top;\n    }\n\n    .dataframe thead th {\n        text-align: right;\n    }\n</style>\n<table border=\"1\" class=\"dataframe\">\n  <thead>\n    <tr style=\"text-align: right;\">\n      <th></th>\n      <th>Run ID</th>\n      <th>Params</th>\n      <th>Accuracies</th>\n      <th>ROC AUC Scores</th>\n    </tr>\n  </thead>\n  <tbody>\n    <tr>\n      <th>0</th>\n      <td>ea305031891a4a45802d37aeee1e8923</td>\n      <td>20</td>\n      <td>0.966667</td>\n      <td>0.977904</td>\n    </tr>\n    <tr>\n      <th>1</th>\n      <td>9792a49e8a5948adbb08005ad8574d3d</td>\n      <td>10</td>\n      <td>0.966667</td>\n      <td>0.977904</td>\n    </tr>\n    <tr>\n      <th>2</th>\n      <td>ee05a605112a4caab7291cd8bf2f3470</td>\n      <td>5</td>\n      <td>0.966667</td>\n      <td>1.000000</td>\n    </tr>\n    <tr>\n      <th>3</th>\n      <td>70d99bd2d7534a179bbd92619e5c270a</td>\n      <td>2</td>\n      <td>0.966667</td>\n      <td>0.988271</td>\n    </tr>\n    <tr>\n      <th>4</th>\n      <td>912872f2a8e34657932ccb0df7aec357</td>\n      <td>1</td>\n      <td>0.633333</td>\n      <td>0.870980</td>\n    </tr>\n  </tbody>\n</table>\n</div>"
     },
     "execution_count": 72,
     "metadata": {},
     "output_type": "execute_result"
    }
   ],
   "source": [
    "import mlflow\n",
    "import pandas as pd\n",
    "\n",
    "from mlflow.tracking import MlflowClient\n",
    "\n",
    "\n",
    "EXPERIMENT_NAME = \"mlflow-demo\"\n",
    "\n",
    "client = MlflowClient()\n",
    "\n",
    "# Retrieve Experiment information\n",
    "EXPERIMENT_ID = client.get_experiment_by_name(EXPERIMENT_NAME).experiment_id\n",
    "print('EXPERIMENT_ID', EXPERIMENT_ID)\n",
    "\n",
    "# Retrieve Runs information (parameter 'depth', metric 'accuracy')\n",
    "# ALL_RUNS_INFO = client.list_run_infos(EXPERIMENT_ID)\n",
    "ALL_RUNS_INFO = client.search_runs(experiment_ids=EXPERIMENT_ID)\n",
    "\n",
    "# ALL_RUNS_ID = [run.run_id for run in ALL_RUNS_INFO]\n",
    "ALL_RUNS_ID = [run.info.run_id for run in ALL_RUNS_INFO]\n",
    "\n",
    "ALL_PARAM = [client.get_run(run_id).data.params[\"depth\"] for run_id in ALL_RUNS_ID]\n",
    "ALL_ACCURACY = [client.get_run(run_id).data.metrics[\"accuracy\"] for run_id in ALL_RUNS_ID]\n",
    "ALL_ROCAUC = [client.get_run(run_id).data.metrics[\"ROC AUC score\"] for run_id in ALL_RUNS_ID]\n",
    "\n",
    "# View Runs information\n",
    "DF = pd.DataFrame({\"Run ID\": ALL_RUNS_ID, \"Params\": ALL_PARAM, \"Accuracies\": ALL_ACCURACY, 'ROC AUC Scores':ALL_ROCAUC})\n",
    "\n",
    "# Retrieve Artifact from best run\n",
    "best_run_id = DF.sort_values(\"ROC AUC Scores\", ascending=False).iloc[0][\"Run ID\"]\n",
    "best_model_path = mlflow.artifacts.download_artifacts(run_id=best_run_id, artifact_path='classifier')#, \"classifier\")\n",
    "best_model = mlflow.sklearn.load_model(best_model_path)\n",
    "\n",
    "# # Delete runs (DO NOT USE UNLESS CERTAIN)\n",
    "# for run_id in ALL_RUNS_ID:\n",
    "#     client.delete_run(run_id)\n",
    "#\n",
    "# # Delete experiment (DO NOT USE UNLESS CERTAIN)\n",
    "# client.delete_experiment(EXPERIMENT_ID)\n",
    "print('Best run ID:', best_run_id)\n",
    "DF"
   ],
   "metadata": {
    "collapsed": false
   }
  },
  {
   "cell_type": "code",
   "execution_count": null,
   "outputs": [],
   "source": [],
   "metadata": {
    "collapsed": false
   }
  }
 ],
 "metadata": {
  "kernelspec": {
   "display_name": "Python 3",
   "language": "python",
   "name": "python3"
  },
  "language_info": {
   "codemirror_mode": {
    "name": "ipython",
    "version": 2
   },
   "file_extension": ".py",
   "mimetype": "text/x-python",
   "name": "python",
   "nbconvert_exporter": "python",
   "pygments_lexer": "ipython2",
   "version": "2.7.6"
  }
 },
 "nbformat": 4,
 "nbformat_minor": 0
}
